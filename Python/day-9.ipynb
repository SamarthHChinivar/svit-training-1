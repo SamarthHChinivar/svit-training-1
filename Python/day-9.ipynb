{
 "cells": [
  {
   "cell_type": "markdown",
   "id": "ddefbd19",
   "metadata": {},
   "source": [
    "# Day-9\n",
    "---"
   ]
  },
  {
   "cell_type": "markdown",
   "id": "8c6a0e29",
   "metadata": {},
   "source": [
    "## Abstraction:"
   ]
  },
  {
   "cell_type": "markdown",
   "id": "47b43f44",
   "metadata": {},
   "source": [
    "1. It is a method, whihch is declaed, but contains no implementation @abstractmethod\n",
    "2. abstract method classes cannot be instantiated , so no object can be created.\n",
    "3. When we know requirements, but we dont know implementation.\n",
    "4. When constructor is there in abstract class, when you extend or inherit that in childclass constructor, it is invoked in child class."
   ]
  },
  {
   "cell_type": "code",
   "execution_count": 1,
   "id": "19879a04",
   "metadata": {},
   "outputs": [
    {
     "name": "stdout",
     "output_type": "stream",
     "text": [
      "PQR\n"
     ]
    }
   ],
   "source": [
    "from abc import ABC,abstractclassmethod\n",
    "\n",
    "class Parent(ABC):\n",
    "\n",
    "    @abstractclassmethod\n",
    "    def pqr(self):\n",
    "        pass\n",
    "\n",
    "class Child(Parent):\n",
    "\n",
    "    def pqr(self):\n",
    "        print(\"PQR\")\n",
    "\n",
    "obj = Child()\n",
    "obj.pqr()"
   ]
  },
  {
   "cell_type": "code",
   "execution_count": 6,
   "id": "013cb8f2",
   "metadata": {},
   "outputs": [],
   "source": [
    "def outer(func): #step1\n",
    "    def wrapper(*args,**kwargs): #step3 wrapper is not called it will execute\n",
    "        print(f\"executing (func.__name__) name\") #step7 before main\n",
    "        func(*args,**kwargs) #step8 calls main func\n",
    "    return wrapper #step4 return wrapper address\n",
    "@outer #add=outer(add) step2: add-wrapper\n",
    "def add(a,b): #step9 reurns to calling func\n",
    "    print(a+b) #step6 calls wrapper function\n",
    "    \n",
    "#when add = wrapper , this is called as monkey patching"
   ]
  },
  {
   "cell_type": "code",
   "execution_count": 11,
   "id": "6cc1406c",
   "metadata": {},
   "outputs": [],
   "source": [
    "# class Log:\n",
    "#     def __call__(self,func):\n",
    "#         def wrapper(*args, **kwargs):\n",
    "#             print(f\"executing (func.__name__) name\")\n",
    "#         return wrapper\n",
    "\n",
    "# l = Log()\n",
    "\n",
    "# @l\n",
    "# def add(self,a,b):\n",
    "#     print(a+b)\n",
    "# add(3,4)"
   ]
  },
  {
   "cell_type": "markdown",
   "id": "6d2b3235",
   "metadata": {},
   "source": [
    "- **one** `try` block is allowed and **multiple** `except`"
   ]
  },
  {
   "cell_type": "code",
   "execution_count": null,
   "id": "e449ebfa",
   "metadata": {},
   "outputs": [],
   "source": []
  }
 ],
 "metadata": {
  "kernelspec": {
   "display_name": "Python 3 (ipykernel)",
   "language": "python",
   "name": "python3"
  },
  "language_info": {
   "codemirror_mode": {
    "name": "ipython",
    "version": 3
   },
   "file_extension": ".py",
   "mimetype": "text/x-python",
   "name": "python",
   "nbconvert_exporter": "python",
   "pygments_lexer": "ipython3",
   "version": "3.10.6"
  }
 },
 "nbformat": 4,
 "nbformat_minor": 5
}
