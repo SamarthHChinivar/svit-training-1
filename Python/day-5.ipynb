{
 "cells": [
  {
   "cell_type": "markdown",
   "id": "ee108c41",
   "metadata": {},
   "source": [
    "# Day-5:\n",
    "---"
   ]
  },
  {
   "cell_type": "markdown",
   "id": "4d5f9c8e",
   "metadata": {},
   "source": [
    "## Functions:"
   ]
  },
  {
   "cell_type": "markdown",
   "id": "c73fde97",
   "metadata": {},
   "source": [
    "- `def` keyword is used for defining and declaring in python.\n",
    "- **Syntax:** `def func_name(parameters,..):`\n",
    "                   func body\n",
    "- **Calling Syntax:** `func_name(arguments,..)`\n",
    "- Function is a set of statements, which are executed at once, for performing a specific task.\n",
    "- `return` statement can also be used within the function body. \n",
    "- Using `return` statement for returning **one or more data**."
   ]
  },
  {
   "cell_type": "markdown",
   "id": "8cbad00d",
   "metadata": {},
   "source": [
    "## Type of Arguments:"
   ]
  },
  {
   "cell_type": "markdown",
   "id": "cb4c8abc",
   "metadata": {},
   "source": [
    "https://levelup.gitconnected.com/5-types-of-arguments-in-python-function-definition-e0e2a2cafd29 "
   ]
  },
  {
   "cell_type": "markdown",
   "id": "590d52de",
   "metadata": {},
   "source": [
    "- **positional** arg\n",
    "- **keyword** agr\n",
    "- **combination** of both\n",
    "- **variable positional** arg - `*args`\n",
    "- **variable keyword** arg - `**kwargs`"
   ]
  },
  {
   "cell_type": "markdown",
   "id": "9ad7183a",
   "metadata": {},
   "source": [
    "## Activity:"
   ]
  },
  {
   "cell_type": "markdown",
   "id": "b8514af6",
   "metadata": {},
   "source": [
    " #### 1. Function to count  the number of positional and keyword passed to it."
   ]
  },
  {
   "cell_type": "code",
   "execution_count": 1,
   "id": "3c90f83d",
   "metadata": {},
   "outputs": [
    {
     "name": "stdout",
     "output_type": "stream",
     "text": [
      "(4, 2)\n"
     ]
    }
   ],
   "source": [
    "def func(*args,**kwargs):\n",
    "    return len(args),len(kwargs)\n",
    "print(func(1,2,3,4,i=0,j=-1))"
   ]
  },
  {
   "cell_type": "markdown",
   "id": "bd1501b0",
   "metadata": {},
   "source": [
    " #### 2. Write a function to print message 'Hai Everyone'"
   ]
  },
  {
   "cell_type": "code",
   "execution_count": null,
   "id": "8c06f41b",
   "metadata": {},
   "outputs": [],
   "source": []
  },
  {
   "cell_type": "markdown",
   "id": "a1daca9f",
   "metadata": {},
   "source": [
    "## Packing and Unpacking:"
   ]
  },
  {
   "cell_type": "markdown",
   "id": "aa9ead00",
   "metadata": {},
   "source": [
    "https://www.geeksforgeeks.org/packing-and-unpacking-arguments-in-python "
   ]
  },
  {
   "cell_type": "markdown",
   "id": "cc36f9ac",
   "metadata": {},
   "source": [
    "## Local and Global Scope:"
   ]
  },
  {
   "cell_type": "markdown",
   "id": "1aa51995",
   "metadata": {},
   "source": [
    "- `global` keyword is used to **access** the **global variable** in **function body** "
   ]
  },
  {
   "cell_type": "code",
   "execution_count": 2,
   "id": "81b757e3",
   "metadata": {},
   "outputs": [
    {
     "name": "stdout",
     "output_type": "stream",
     "text": [
      "30\n"
     ]
    }
   ],
   "source": [
    "a = 10\n",
    "def func():\n",
    "    global a #global keyword used here\n",
    "    b = a + 10\n",
    "    a = a + 20\n",
    "    print(a)\n",
    "func()"
   ]
  },
  {
   "cell_type": "markdown",
   "id": "1111b5af",
   "metadata": {},
   "source": [
    "## Anonymous Functions:"
   ]
  },
  {
   "cell_type": "markdown",
   "id": "a68ba7bc",
   "metadata": {},
   "source": [
    "**Anonymous Functions** are functions , which `does not have any name`"
   ]
  },
  {
   "cell_type": "markdown",
   "id": "0f575485",
   "metadata": {},
   "source": [
    "- `Lambda` functions\n",
    "- `Maps` \n",
    "- `Filters`"
   ]
  },
  {
   "cell_type": "markdown",
   "id": "5508888f",
   "metadata": {},
   "source": [
    "## Lambda Functions:"
   ]
  },
  {
   "cell_type": "markdown",
   "id": "f3fc3cf2",
   "metadata": {},
   "source": [
    "**Syntax:** `lambda arguments: expression`"
   ]
  }
 ],
 "metadata": {
  "kernelspec": {
   "display_name": "Python 3.10.6 64-bit",
   "language": "python",
   "name": "python3"
  },
  "language_info": {
   "codemirror_mode": {
    "name": "ipython",
    "version": 3
   },
   "file_extension": ".py",
   "mimetype": "text/x-python",
   "name": "python",
   "nbconvert_exporter": "python",
   "pygments_lexer": "ipython3",
   "version": "3.10.6"
  },
  "vscode": {
   "interpreter": {
    "hash": "a1a0606c35d66e4e983cfd42a7c8bdd844cf53557c7d80f43c6006919a6e0a17"
   }
  }
 },
 "nbformat": 4,
 "nbformat_minor": 5
}
