{
 "cells": [
  {
   "cell_type": "markdown",
   "id": "9d87e442",
   "metadata": {},
   "source": [
    "# Day-8\n",
    "---"
   ]
  },
  {
   "cell_type": "markdown",
   "id": "4fc9a815",
   "metadata": {},
   "source": [
    "# OOPS:\n",
    "---"
   ]
  },
  {
   "cell_type": "markdown",
   "id": "17b68148",
   "metadata": {},
   "source": [
    "Link: https://youtube.com/playlist?list=PLu0W_9lII9ahfRrhFcoB-4lpp9YaBmdCP"
   ]
  },
  {
   "cell_type": "markdown",
   "id": "c02cd3ca",
   "metadata": {},
   "source": [
    "- OOPS uses `Classes` and `Objects` to solve various problems."
   ]
  },
  {
   "cell_type": "markdown",
   "id": "f1e3b620",
   "metadata": {},
   "source": [
    "**Inheritance:** It is the ability of `Derived Class` to **inherit** the **features** of `Base Class`."
   ]
  },
  {
   "cell_type": "markdown",
   "id": "a70ddf65",
   "metadata": {},
   "source": [
    "**Types of Inheritance:**"
   ]
  },
  {
   "cell_type": "markdown",
   "id": "d177ab4c",
   "metadata": {},
   "source": [
    "Link: https://www.geeksforgeeks.org/types-of-inheritance-python"
   ]
  },
  {
   "cell_type": "markdown",
   "id": "28aae938",
   "metadata": {},
   "source": [
    "1. Single\n",
    "2. Multi-level\n",
    "3. Multiple\n",
    "4. Hierarchial\n",
    "5. Hybrid"
   ]
  },
  {
   "cell_type": "markdown",
   "id": "6a393dc8",
   "metadata": {},
   "source": [
    "## In-Built Classes:"
   ]
  },
  {
   "cell_type": "code",
   "execution_count": 4,
   "id": "ccc586e9",
   "metadata": {},
   "outputs": [
    {
     "name": "stdout",
     "output_type": "stream",
     "text": [
      "10 10\n",
      "<class 'int'> <class 'int'>\n"
     ]
    }
   ],
   "source": [
    "a = 10\n",
    "b = int(a)\n",
    "print(a,b)\n",
    "print(type(a),type(b))"
   ]
  },
  {
   "cell_type": "code",
   "execution_count": 5,
   "id": "011ae57b",
   "metadata": {},
   "outputs": [
    {
     "name": "stdout",
     "output_type": "stream",
     "text": [
      "hi 2\n",
      "<class 'str'> <class 'int'>\n"
     ]
    }
   ],
   "source": [
    "a = 'hi'\n",
    "b = len(a)\n",
    "print(a,b)\n",
    "print(type(a),type(b))"
   ]
  },
  {
   "cell_type": "markdown",
   "id": "97d9c4f7",
   "metadata": {},
   "source": [
    "## Syntax:"
   ]
  },
  {
   "cell_type": "code",
   "execution_count": 7,
   "id": "6e21632c",
   "metadata": {},
   "outputs": [],
   "source": [
    "# Creating a Class: \n",
    "# class ClassName:\n",
    "#     pass\n",
    "\n",
    "# Creating an Instance:\n",
    "# obj = ClassName()"
   ]
  },
  {
   "cell_type": "markdown",
   "id": "ed320110",
   "metadata": {},
   "source": [
    "## Examples"
   ]
  },
  {
   "cell_type": "code",
   "execution_count": 16,
   "id": "d0831c0e",
   "metadata": {},
   "outputs": [
    {
     "name": "stdout",
     "output_type": "stream",
     "text": [
      "steve jobs\n",
      "vibha v\n"
     ]
    }
   ],
   "source": [
    "class Employee:\n",
    "    #class variables\n",
    "    fn = 'steve' \n",
    "    ln = 'jobs'\n",
    "    \n",
    "    #local variables\n",
    "    def display(self,fn,ln):\n",
    "        print(self.fn,self.ln)\n",
    "        print(fn,ln)\n",
    "    \n",
    "emp1 = Employee()\n",
    "emp1.display('vibha','v')"
   ]
  },
  {
   "cell_type": "code",
   "execution_count": 19,
   "id": "d789e738",
   "metadata": {},
   "outputs": [
    {
     "name": "stdout",
     "output_type": "stream",
     "text": [
      "30\n",
      "300\n",
      "-10\n",
      "-100\n"
     ]
    }
   ],
   "source": [
    "class Cal:\n",
    "    #class variables\n",
    "    a = 10\n",
    "    b = 20\n",
    "    \n",
    "    #local variables\n",
    "    def add(self,x,y):\n",
    "        print(self.a+self.b)\n",
    "        print(x+y)\n",
    "    \n",
    "    def sub(self,x,y):\n",
    "        print(self.a-self.b)\n",
    "        print(x-y)\n",
    "        \n",
    "c = Cal()\n",
    "c.add(100,200)\n",
    "c.sub(100,200)"
   ]
  },
  {
   "cell_type": "code",
   "execution_count": 22,
   "id": "969681f5",
   "metadata": {},
   "outputs": [
    {
     "name": "stdout",
     "output_type": "stream",
     "text": [
      "300\n",
      "-100\n"
     ]
    }
   ],
   "source": [
    "class Cal:\n",
    "    def add(self,x,y):\n",
    "        self.x = x\n",
    "        self.y = y\n",
    "        print(self.x+self.y)\n",
    "    \n",
    "    def sub(self,x,y):\n",
    "        self.x = x\n",
    "        self.y = y\n",
    "        print(self.x-self.y)\n",
    "        \n",
    "c = Cal()\n",
    "c.add(100,200)\n",
    "c.sub(100,200)"
   ]
  },
  {
   "cell_type": "markdown",
   "id": "a6d40d0a",
   "metadata": {},
   "source": [
    "## Methods: "
   ]
  },
  {
   "cell_type": "markdown",
   "id": "21d7c094",
   "metadata": {},
   "source": [
    "- Link:  https://www.geeksforgeeks.org/class-method-vs-static-method-python "
   ]
  },
  {
   "cell_type": "code",
   "execution_count": 33,
   "id": "03476d55",
   "metadata": {},
   "outputs": [
    {
     "name": "stdout",
     "output_type": "stream",
     "text": [
      "Instance\n",
      "some method\n",
      "some method\n"
     ]
    }
   ],
   "source": [
    "# instance method, static method\n",
    "\n",
    "class InSt:\n",
    "    def m1(self):\n",
    "        print('Instance')\n",
    "    \n",
    "    @staticmethod\n",
    "    def m2():\n",
    "        print('some method')\n",
    "\n",
    "obj = InSt()\n",
    "obj.m1()\n",
    "obj.m2()\n",
    "InSt.m2()"
   ]
  },
  {
   "cell_type": "code",
   "execution_count": 41,
   "id": "0e79eecf",
   "metadata": {},
   "outputs": [],
   "source": [
    "class CM:\n",
    "    current_CM = 'yediyurappa'\n",
    "    \n",
    "    def display(self):\n",
    "        print(self.current_CM)\n",
    "    \n",
    "    @classmethod\n",
    "    def requirement(cls,vote):\n",
    "        if vote > 50:\n",
    "            cls.current_CM  = 'bommai'\n",
    "            print(cls.current_CM)\n",
    "\n",
    "# bjp = CM()\n",
    "# bjp.requirement(70)\n",
    "# bjp.display()\n",
    "\n",
    "# cong = CM()\n",
    "# cong.display()\n",
    "\n",
    "# CM.requirement(30)\n",
    "# bjp.display()\n",
    "# cong.display()"
   ]
  },
  {
   "cell_type": "markdown",
   "id": "96c2e69d",
   "metadata": {},
   "source": [
    "## Constructors:"
   ]
  },
  {
   "cell_type": "code",
   "execution_count": 44,
   "id": "03f97100",
   "metadata": {},
   "outputs": [
    {
     "name": "stdout",
     "output_type": "stream",
     "text": [
      "employee details:\n",
      "displaying\n",
      "employee details:\n",
      "displaying\n"
     ]
    }
   ],
   "source": [
    "class Employees:\n",
    "    def __init__(self):\n",
    "        print('employee details:')\n",
    "    \n",
    "    def display(self):\n",
    "        print('displaying')\n",
    "        \n",
    "emp1 = Employees()\n",
    "emp1.display()\n",
    "\n",
    "emp2 = Employees()\n",
    "emp2.display()"
   ]
  },
  {
   "cell_type": "code",
   "execution_count": 51,
   "id": "21b617e7",
   "metadata": {},
   "outputs": [
    {
     "name": "stdout",
     "output_type": "stream",
     "text": [
      "employee details:\n",
      "sam 5lpa\n",
      "employee details:\n",
      "annand 4lpa\n"
     ]
    }
   ],
   "source": [
    "class Employees:\n",
    "#     name = 'teja'\n",
    "#     salary = '3lpa'\n",
    "    \n",
    "    def __init__(self,name,salary):\n",
    "        self.name = name\n",
    "        self.salary = salary\n",
    "        print('employee details:')\n",
    "        \n",
    "    def display(self):\n",
    "        print(self.name, self.salary)\n",
    "        \n",
    "emp1 = Employees('sam','5lpa')\n",
    "emp1.display()\n",
    "\n",
    "emp2 = Employees('annand','4lpa')\n",
    "emp2.display()"
   ]
  },
  {
   "cell_type": "markdown",
   "id": "74c18683",
   "metadata": {},
   "source": [
    "## Inheritance:"
   ]
  },
  {
   "cell_type": "markdown",
   "id": "d73ef468",
   "metadata": {},
   "source": [
    "### Single Inheritance: "
   ]
  },
  {
   "cell_type": "code",
   "execution_count": 55,
   "id": "d6b4a7a7",
   "metadata": {},
   "outputs": [
    {
     "name": "stdout",
     "output_type": "stream",
     "text": [
      "b call:\n",
      "child B\n",
      "parent A\n",
      "\n",
      "a call:\n",
      "parent A\n"
     ]
    }
   ],
   "source": [
    "class A:\n",
    "    def ma(self):\n",
    "        print('parent A')\n",
    "    \n",
    "    def m1(self):\n",
    "        print(ma())\n",
    "    \n",
    "class B(A):\n",
    "    def mb(self):\n",
    "        print('child B')\n",
    "        self.ma()\n",
    "print('b call:')       \n",
    "b = B()\n",
    "b.mb()\n",
    "\n",
    "print('\\na call:')\n",
    "a = A()\n",
    "a.ma()"
   ]
  },
  {
   "cell_type": "markdown",
   "id": "2025a793",
   "metadata": {},
   "source": [
    "- `super()` method: https://www.geeksforgeeks.org/python-super  **(IMP)**"
   ]
  },
  {
   "cell_type": "code",
   "execution_count": 65,
   "id": "06bd9916",
   "metadata": {},
   "outputs": [
    {
     "name": "stdout",
     "output_type": "stream",
     "text": [
      "multiplying the values  3 * 2  =  6\n"
     ]
    }
   ],
   "source": [
    "class P1:\n",
    "    def __init__(self,a,b):\n",
    "        self.a = a\n",
    "        self.b = b\n",
    "        \n",
    "    def add(self):\n",
    "        print(self.a + self.b)\n",
    "        \n",
    "class P2:\n",
    "    def __init__(self,c):\n",
    "        self.c = c\n",
    "        \n",
    "class C(P1,P2):\n",
    "    def __init__(self,a,b):\n",
    "        super().__init__(a,b)\n",
    "        print('multiplying the values ',self.a,'*',self.b,' = ',self.a*self.b)\n",
    "        \n",
    "c = C(3,2)"
   ]
  },
  {
   "cell_type": "markdown",
   "id": "37a19b8e",
   "metadata": {},
   "source": [
    "## Polymorphism"
   ]
  },
  {
   "cell_type": "markdown",
   "id": "4086c76d",
   "metadata": {},
   "source": [
    "**Types of Polymorphism:**"
   ]
  },
  {
   "cell_type": "markdown",
   "id": "72b2abd1",
   "metadata": {},
   "source": [
    "Link: https://www.geeksforgeeks.org/polymorphism-in-python"
   ]
  },
  {
   "cell_type": "markdown",
   "id": "1fe2f015",
   "metadata": {},
   "source": [
    "1. Method Overriding\n",
    "2. Variable Overriding"
   ]
  },
  {
   "cell_type": "code",
   "execution_count": 69,
   "id": "93422fcf",
   "metadata": {},
   "outputs": [
    {
     "name": "stdout",
     "output_type": "stream",
     "text": [
      "vaishnavi\n",
      "Display in child\n"
     ]
    }
   ],
   "source": [
    "class Parent:\n",
    "    name = 'vamshi'\n",
    "\n",
    "class child(Parent):\n",
    "    name = 'vaishnavi' #variable overrding\n",
    "    def display(self):\n",
    "        print('Display in child')\n",
    "        \n",
    "obj = child()\n",
    "print(obj.name)\n",
    "obj.display()"
   ]
  },
  {
   "cell_type": "code",
   "execution_count": 72,
   "id": "c88ef68d",
   "metadata": {},
   "outputs": [
    {
     "name": "stdout",
     "output_type": "stream",
     "text": [
      "Im displaying in parent\n",
      "Im displaying in parent2\n",
      "vaishnavi\n",
      "Display in child\n"
     ]
    }
   ],
   "source": [
    "class Parent:\n",
    "    name = 'vamshi'\n",
    "    print('Im displaying in parent')\n",
    "\n",
    "class Parent2:\n",
    "    name = 'vamshi v'\n",
    "    print('Im displaying in parent2')    \n",
    "\n",
    "class child(Parent):\n",
    "    name = 'vaishnavi' #variable overrding\n",
    "    def display(self):\n",
    "        print('Display in child')\n",
    "        \n",
    "obj = child() # stmts in Parent and Parent2 are executed , when child() constructor is called.\n",
    "print(obj.name)\n",
    "obj.display()"
   ]
  }
 ],
 "metadata": {
  "kernelspec": {
   "display_name": "Python 3 (ipykernel)",
   "language": "python",
   "name": "python3"
  },
  "language_info": {
   "codemirror_mode": {
    "name": "ipython",
    "version": 3
   },
   "file_extension": ".py",
   "mimetype": "text/x-python",
   "name": "python",
   "nbconvert_exporter": "python",
   "pygments_lexer": "ipython3",
   "version": "3.10.6"
  }
 },
 "nbformat": 4,
 "nbformat_minor": 5
}
