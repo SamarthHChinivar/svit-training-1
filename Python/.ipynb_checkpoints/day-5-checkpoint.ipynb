{
 "cells": [
  {
   "cell_type": "markdown",
   "id": "9fb1149e",
   "metadata": {},
   "source": [
    "# Day-5:\n",
    "---"
   ]
  },
  {
   "cell_type": "markdown",
   "id": "f5cac4c7",
   "metadata": {},
   "source": [
    "## Functions:"
   ]
  },
  {
   "cell_type": "markdown",
   "id": "6b70dbe5",
   "metadata": {},
   "source": [
    "- `def` keyword is used for defining and declaring in python.\n",
    "- **Syntax:** `def func_name(parameters,..):`\n",
    "                   func body\n",
    "- **Calling Syntax:** `func_name(arguments,..)`\n",
    "- Function is a set of statements, which are executed at once, for performing a specific task.\n",
    "- `return` statement can also be used within the function body. \n",
    "- Using `return` statement for returning **one or more data**."
   ]
  },
  {
   "cell_type": "markdown",
   "id": "a8b09788",
   "metadata": {},
   "source": [
    "## Type of Arguments:"
   ]
  },
  {
   "cell_type": "markdown",
   "id": "e8e5e755",
   "metadata": {},
   "source": [
    "https://levelup.gitconnected.com/5-types-of-arguments-in-python-function-definition-e0e2a2cafd29 "
   ]
  },
  {
   "cell_type": "markdown",
   "id": "fbd322f5",
   "metadata": {},
   "source": [
    "- **positional** arg\n",
    "- **keyword** agr\n",
    "- **combination** of both\n",
    "- **variable positional** arg - `*args`\n",
    "- **variable keyword** arg - `**kwargs`"
   ]
  },
  {
   "cell_type": "markdown",
   "id": "de8c057b",
   "metadata": {},
   "source": [
    "## Activity:"
   ]
  },
  {
   "cell_type": "markdown",
   "id": "cca08e58",
   "metadata": {},
   "source": [
    " #### 1. Function to count  the number of positional and keyword passed to it."
   ]
  },
  {
   "cell_type": "code",
   "execution_count": 4,
   "id": "fcaecf09",
   "metadata": {},
   "outputs": [
    {
     "name": "stdout",
     "output_type": "stream",
     "text": [
      "(4, 2)\n"
     ]
    }
   ],
   "source": [
    "def func(*args,**kwargs):\n",
    "    return len(args),len(kwargs)\n",
    "print(func(1,2,3,4,i=0,j=-1))"
   ]
  },
  {
   "cell_type": "markdown",
   "id": "26488937",
   "metadata": {},
   "source": [
    " #### 2. Write a function to print message 'Hai Everyone'"
   ]
  },
  {
   "cell_type": "code",
   "execution_count": null,
   "id": "a01ee505",
   "metadata": {},
   "outputs": [],
   "source": []
  },
  {
   "cell_type": "markdown",
   "id": "bc06c363",
   "metadata": {},
   "source": [
    "## Packing and Unpacking:"
   ]
  },
  {
   "cell_type": "markdown",
   "id": "00194aa5",
   "metadata": {},
   "source": [
    "https://www.geeksforgeeks.org/packing-and-unpacking-arguments-in-python "
   ]
  },
  {
   "cell_type": "markdown",
   "id": "b44eb3ef",
   "metadata": {},
   "source": [
    "## Local and Global Scope:"
   ]
  },
  {
   "cell_type": "markdown",
   "id": "a362cecb",
   "metadata": {},
   "source": [
    "- `global` keyword is used to **access** the **global variable** in **function body** "
   ]
  },
  {
   "cell_type": "code",
   "execution_count": 5,
   "id": "ae1ff02e",
   "metadata": {},
   "outputs": [
    {
     "name": "stdout",
     "output_type": "stream",
     "text": [
      "30\n"
     ]
    }
   ],
   "source": [
    "a = 10\n",
    "def func():\n",
    "    global a #global keyword used here\n",
    "    b = a + 10\n",
    "    a = a + 20\n",
    "    print(a)\n",
    "func()"
   ]
  }
 ],
 "metadata": {
  "kernelspec": {
   "display_name": "Python 3 (ipykernel)",
   "language": "python",
   "name": "python3"
  },
  "language_info": {
   "codemirror_mode": {
    "name": "ipython",
    "version": 3
   },
   "file_extension": ".py",
   "mimetype": "text/x-python",
   "name": "python",
   "nbconvert_exporter": "python",
   "pygments_lexer": "ipython3",
   "version": "3.10.6"
  }
 },
 "nbformat": 4,
 "nbformat_minor": 5
}
