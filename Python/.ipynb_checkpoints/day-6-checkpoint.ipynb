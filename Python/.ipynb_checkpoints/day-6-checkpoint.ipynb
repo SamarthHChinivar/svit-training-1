{
 "cells": [
  {
   "cell_type": "markdown",
   "id": "e17de856",
   "metadata": {},
   "source": [
    "# Day-6\n",
    "---"
   ]
  },
  {
   "cell_type": "code",
   "execution_count": 5,
   "id": "db2a52c0",
   "metadata": {},
   "outputs": [
    {
     "name": "stdout",
     "output_type": "stream",
     "text": [
      "['hi', 1, 3]\n"
     ]
    }
   ],
   "source": [
    "l = ['hi','hello',1,2,3]\n",
    "def even_indices(l):\n",
    "    l1 = []\n",
    "    for i,v in enumerate(l):\n",
    "        if(i%2 == 0):\n",
    "            l1.append(v)\n",
    "    return l1\n",
    "print(even_indices(l))"
   ]
  },
  {
   "cell_type": "markdown",
   "id": "abe4eb55",
   "metadata": {},
   "source": [
    "## Generators"
   ]
  },
  {
   "cell_type": "markdown",
   "id": "725ea7b3",
   "metadata": {},
   "source": [
    "- `yield` keyword is used in Generators."
   ]
  },
  {
   "cell_type": "code",
   "execution_count": 9,
   "id": "c24655ab",
   "metadata": {},
   "outputs": [
    {
     "name": "stdout",
     "output_type": "stream",
     "text": [
      "0 2 4 "
     ]
    }
   ],
   "source": [
    "l = ['hi','hello',1,2,3]\n",
    "def even_indices(l):\n",
    "    for i,v in enumerate(l):\n",
    "        if(i%2 == 0):\n",
    "            yield i\n",
    "r = even_indices(l)\n",
    "for i in r:\n",
    "    print(i,end=' ')"
   ]
  },
  {
   "cell_type": "markdown",
   "id": "4d2471c3",
   "metadata": {},
   "source": [
    "- `next` keyword is used to get the first output."
   ]
  },
  {
   "cell_type": "code",
   "execution_count": 10,
   "id": "2e42030b",
   "metadata": {},
   "outputs": [
    {
     "data": {
      "text/plain": [
       "0"
      ]
     },
     "execution_count": 10,
     "metadata": {},
     "output_type": "execute_result"
    }
   ],
   "source": [
    "l = ['hi','hello',1,2,3]\n",
    "def even_indices(l):\n",
    "    for i,v in enumerate(l):\n",
    "        if(i%2 == 0):\n",
    "            yield i\n",
    "r = even_indices(l)\n",
    "next(r)"
   ]
  },
  {
   "cell_type": "markdown",
   "id": "afbf4553",
   "metadata": {},
   "source": [
    "### Generate square numbers of given list"
   ]
  },
  {
   "cell_type": "code",
   "execution_count": 14,
   "id": "3e62ed06",
   "metadata": {},
   "outputs": [
    {
     "name": "stdout",
     "output_type": "stream",
     "text": [
      "1 4 9 16 "
     ]
    }
   ],
   "source": [
    "l = [1,2,3,4]\n",
    "def sq_num(l):\n",
    "    for i in l:\n",
    "        yield i*i\n",
    "\n",
    "r = sq_num(l)\n",
    "for i in r:\n",
    "    print(i,end=' ')"
   ]
  },
  {
   "cell_type": "markdown",
   "id": "e87fe605",
   "metadata": {},
   "source": [
    "### Generate  tuples of square numbers and cube numbers of given list"
   ]
  },
  {
   "cell_type": "code",
   "execution_count": 16,
   "id": "c4e1fe7b",
   "metadata": {},
   "outputs": [
    {
     "name": "stdout",
     "output_type": "stream",
     "text": [
      "(1, 1) (4, 8) (9, 27) (16, 64) "
     ]
    }
   ],
   "source": [
    "l = [1,2,3,4]\n",
    "def sq_num(l):\n",
    "    for i in l:\n",
    "        yield (i*i,i**3)\n",
    "\n",
    "r = sq_num(l)\n",
    "for i in r:\n",
    "    print(i,end=' ')"
   ]
  },
  {
   "cell_type": "markdown",
   "id": "d9cd63ab",
   "metadata": {},
   "source": [
    "#### Approach-2"
   ]
  },
  {
   "cell_type": "code",
   "execution_count": 18,
   "id": "acb09d28",
   "metadata": {},
   "outputs": [
    {
     "name": "stdout",
     "output_type": "stream",
     "text": [
      "(1, 1)\n",
      "(4, 8)\n",
      "(9, 27)\n",
      "(16, 64)\n"
     ]
    }
   ],
   "source": [
    "l = [1,2,3,4]\n",
    "def sq_num(l):\n",
    "    for i in l:\n",
    "        yield (i*i,i**3)\n",
    "\n",
    "r = sq_num(l)\n",
    "print(next(r))\n",
    "print(next(r))\n",
    "print(next(r))\n",
    "print(next(r))"
   ]
  },
  {
   "cell_type": "markdown",
   "id": "0a76169a",
   "metadata": {},
   "source": [
    "#### Approach-3"
   ]
  },
  {
   "cell_type": "code",
   "execution_count": 52,
   "id": "e9ccf075",
   "metadata": {},
   "outputs": [
    {
     "name": "stdout",
     "output_type": "stream",
     "text": [
      "[(1, 1), (4, 8), (9, 27), (16, 64)]\n"
     ]
    }
   ],
   "source": [
    "l = [1,2,3,4]\n",
    "def sq_num(l):\n",
    "    for i in l:\n",
    "        yield (i*i,i**3)\n",
    "\n",
    "r = sq_num(l)\n",
    "print(list(r))"
   ]
  },
  {
   "cell_type": "markdown",
   "id": "b86bf598",
   "metadata": {},
   "source": [
    "### Generate only strings with odd length in given list"
   ]
  },
  {
   "cell_type": "code",
   "execution_count": 20,
   "id": "ad1424e3",
   "metadata": {},
   "outputs": [],
   "source": [
    "names = ['bob','steve','alex','maya','john','og']"
   ]
  },
  {
   "cell_type": "markdown",
   "id": "fb9e4854",
   "metadata": {},
   "source": [
    "#### Using Generators"
   ]
  },
  {
   "cell_type": "code",
   "execution_count": 34,
   "id": "0335987a",
   "metadata": {},
   "outputs": [
    {
     "name": "stdout",
     "output_type": "stream",
     "text": [
      "['bob', 'steve']\n"
     ]
    }
   ],
   "source": [
    "def odd_length(names):\n",
    "    for i in names:\n",
    "        if(len(i)%2 != 0):\n",
    "            yield i\n",
    "print(list(odd_length(names)))"
   ]
  },
  {
   "cell_type": "markdown",
   "id": "fda270a8",
   "metadata": {},
   "source": [
    "#### Using Normal method:"
   ]
  },
  {
   "cell_type": "code",
   "execution_count": 30,
   "id": "dcce5df2",
   "metadata": {},
   "outputs": [
    {
     "name": "stdout",
     "output_type": "stream",
     "text": [
      "['bob', 'steve']\n"
     ]
    }
   ],
   "source": [
    "def odd_length(names):\n",
    "    l1 = []\n",
    "    for i in names:\n",
    "        if(len(i)%2 != 0):\n",
    "            l1.append(i)\n",
    "    return l1\n",
    "print(odd_length(names))"
   ]
  },
  {
   "cell_type": "markdown",
   "id": "5a5cc2d8",
   "metadata": {},
   "source": [
    "#### Using List Comprehension:"
   ]
  },
  {
   "cell_type": "markdown",
   "id": "8d7ed4e0",
   "metadata": {},
   "source": [
    "**Syntax for `for if`:** `list = [<if stmt> for(cond.) if(cond)`"
   ]
  },
  {
   "cell_type": "code",
   "execution_count": 37,
   "id": "e38e63d9",
   "metadata": {},
   "outputs": [
    {
     "name": "stdout",
     "output_type": "stream",
     "text": [
      "['bob', 'steve']\n"
     ]
    }
   ],
   "source": [
    "l1 = [i for i in names if(len(i)%2 != 0)]\n",
    "print(l1)"
   ]
  },
  {
   "cell_type": "markdown",
   "id": "ed3df9ac",
   "metadata": {},
   "source": [
    "### Generate a tuple of only numeric values in list"
   ]
  },
  {
   "cell_type": "code",
   "execution_count": 49,
   "id": "1e34075f",
   "metadata": {},
   "outputs": [
    {
     "name": "stdout",
     "output_type": "stream",
     "text": [
      "(2021, 1, True)\n"
     ]
    }
   ],
   "source": [
    "items = ['flipkart',2021,'gmail',1,2.2,[1,2,3],2+3j,True]\n",
    "\n",
    "def num_values(items):\n",
    "    for i in items:\n",
    "        if(isinstance(i,int)):\n",
    "            yield i\n",
    "\n",
    "print(tuple(num_values(items)))"
   ]
  },
  {
   "cell_type": "markdown",
   "id": "a1ad0d5d",
   "metadata": {},
   "source": [
    "## Decorators"
   ]
  },
  {
   "cell_type": "markdown",
   "id": "1d112058",
   "metadata": {},
   "source": [
    "https://www.geeksforgeeks.org/decorators-in-python"
   ]
  },
  {
   "cell_type": "markdown",
   "id": "6dbd7045",
   "metadata": {},
   "source": [
    "- `Functions` are called as **first class objects** , because they can be **passed** as an `arg` to **anather function**."
   ]
  },
  {
   "cell_type": "code",
   "execution_count": 51,
   "id": "f67dc26f",
   "metadata": {},
   "outputs": [
    {
     "name": "stdout",
     "output_type": "stream",
     "text": [
      "HELLO WORLD !!!\n",
      "hello world !!!\n"
     ]
    }
   ],
   "source": [
    "def shout(text):\n",
    "    return text.upper()\n",
    "\n",
    "def whisper(text):\n",
    "    return text.lower()\n",
    "\n",
    "def main(func):\n",
    "    r = func(\"Hello World !!!\")\n",
    "    print(r)\n",
    "\n",
    "#Function calls:\n",
    "main(shout)\n",
    "main(whisper)"
   ]
  },
  {
   "cell_type": "markdown",
   "id": "be34ef86",
   "metadata": {},
   "source": [
    "#### General Structure of Decorators:"
   ]
  },
  {
   "cell_type": "markdown",
   "id": "56a37186",
   "metadata": {},
   "source": [
    "`def outer(func):\n",
    "    def inner(*args,**kwargs):\n",
    "        func(*args,**kwargs)\n",
    "    return inner`"
   ]
  },
  {
   "cell_type": "code",
   "execution_count": null,
   "id": "38899a1c",
   "metadata": {},
   "outputs": [],
   "source": []
  }
 ],
 "metadata": {
  "kernelspec": {
   "display_name": "Python 3 (ipykernel)",
   "language": "python",
   "name": "python3"
  },
  "language_info": {
   "codemirror_mode": {
    "name": "ipython",
    "version": 3
   },
   "file_extension": ".py",
   "mimetype": "text/x-python",
   "name": "python",
   "nbconvert_exporter": "python",
   "pygments_lexer": "ipython3",
   "version": "3.10.6"
  }
 },
 "nbformat": 4,
 "nbformat_minor": 5
}
