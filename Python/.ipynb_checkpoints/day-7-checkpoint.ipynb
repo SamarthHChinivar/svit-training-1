{
 "cells": [
  {
   "cell_type": "markdown",
   "id": "b6a52391",
   "metadata": {},
   "source": [
    "# Day-7\n",
    "---"
   ]
  },
  {
   "cell_type": "markdown",
   "id": "2e27778a",
   "metadata": {},
   "source": [
    "## Strings:"
   ]
  },
  {
   "cell_type": "markdown",
   "id": "5e20a39e",
   "metadata": {},
   "source": [
    "### Write a function that accepts two strings and returns True if the two strings are anagrams of each other."
   ]
  },
  {
   "cell_type": "code",
   "execution_count": 4,
   "id": "f4a3e3ef",
   "metadata": {},
   "outputs": [
    {
     "name": "stdout",
     "output_type": "stream",
     "text": [
      "aet\n",
      "True\n"
     ]
    }
   ],
   "source": [
    "def anagrams(str1,str2):\n",
    "    if(\"\".join(sorted(str1)) == \"\".join(sorted(str2))):\n",
    "        print(\"\".join(sorted(str1)))\n",
    "        return True\n",
    "    else:\n",
    "        return False\n",
    "print(anagrams('eat','tea'))"
   ]
  },
  {
   "cell_type": "markdown",
   "id": "10291c18",
   "metadata": {},
   "source": [
    "### Grouping Anagrams:"
   ]
  },
  {
   "cell_type": "code",
   "execution_count": 5,
   "id": "ba457cd4",
   "metadata": {},
   "outputs": [
    {
     "name": "stdout",
     "output_type": "stream",
     "text": [
      "{'aet': ['eat', 'ate', 'tea'], 'ehllo': ['hello'], 'eilnst': ['silent', 'listen']}\n"
     ]
    }
   ],
   "source": [
    "words = ['eat','ate','tea','hello','silent','listen']\n",
    "d = {}\n",
    "for item in words:\n",
    "    key = \"\".join(sorted(item))\n",
    "    if key not in d:\n",
    "        d[key] = [item]\n",
    "    else:\n",
    "        d[key] += [item]\n",
    "print(d)"
   ]
  },
  {
   "cell_type": "markdown",
   "id": "a9dd7676",
   "metadata": {},
   "source": [
    "#### Approach-2:"
   ]
  },
  {
   "cell_type": "code",
   "execution_count": 12,
   "id": "eab962aa",
   "metadata": {},
   "outputs": [
    {
     "name": "stdout",
     "output_type": "stream",
     "text": [
      "defaultdict(<class 'list'>, {'aet': ['eat', 'ate', 'tea'], 'ehllo': ['hello'], 'eilnst': ['silent', 'listen']})\n"
     ]
    }
   ],
   "source": [
    "from collections import defaultdict\n",
    "dd = defaultdict(list)\n",
    "for item in words:\n",
    "    key = \"\".join(sorted(item))\n",
    "    dd[key] += [item]\n",
    "print(dd)"
   ]
  },
  {
   "cell_type": "markdown",
   "id": "2d157c34",
   "metadata": {},
   "source": [
    "## File Handling:"
   ]
  },
  {
   "cell_type": "markdown",
   "id": "83950579",
   "metadata": {},
   "source": [
    "https://www.w3schools.com/python/python_ref_file.asp"
   ]
  },
  {
   "cell_type": "code",
   "execution_count": 13,
   "id": "bd94f536",
   "metadata": {},
   "outputs": [],
   "source": [
    "import os"
   ]
  },
  {
   "cell_type": "code",
   "execution_count": 14,
   "id": "e794aa41",
   "metadata": {},
   "outputs": [
    {
     "name": "stdout",
     "output_type": "stream",
     "text": [
      "C:\\Users\\Samarth H Chinivar\\Documents\\Engineering\\Placement-Training\\Python\n"
     ]
    }
   ],
   "source": [
    "print(os.getcwd())"
   ]
  },
  {
   "cell_type": "code",
   "execution_count": 17,
   "id": "13afecb5",
   "metadata": {},
   "outputs": [
    {
     "name": "stdout",
     "output_type": "stream",
     "text": [
      "C:\\Users\\Samarth H Chinivar\\Documents\\Engineering\\Placement-Training\\Python\\spam\n"
     ]
    }
   ],
   "source": [
    "path = r'C:\\Users\\Samarth H Chinivar\\Documents\\Engineering\\Placement-Training\\Python\\spam'\n",
    "os.chdir(path)\n",
    "print(os.getcwd())"
   ]
  },
  {
   "cell_type": "code",
   "execution_count": 2,
   "id": "3bea9ae4",
   "metadata": {},
   "outputs": [
    {
     "name": "stdout",
     "output_type": "stream",
     "text": [
      "\n"
     ]
    }
   ],
   "source": [
    "path = r'C:\\Users\\Samarth H Chinivar\\Documents\\Engineering\\Placement-Training\\Python\\spam\\spam.txt'\n",
    "with open (path,'r') as file:\n",
    "    #print(file.read())\n",
    "    #print(file.read(5))\n",
    "    #print(file.readline())\n",
    "    #print(file.readlines())\n",
    "    #print(file.readlines(4))"
   ]
  },
  {
   "cell_type": "code",
   "execution_count": 33,
   "id": "17191bed",
   "metadata": {},
   "outputs": [
    {
     "name": "stdout",
     "output_type": "stream",
     "text": [
      "9\n",
      "None\n"
     ]
    }
   ],
   "source": [
    "path = r'C:\\Users\\Samarth H Chinivar\\Documents\\Engineering\\Placement-Training\\Python\\spam\\spam.txt'\n",
    "with open (path,'w') as file:\n",
    "    print(file.write(\"hi python\"))\n",
    "    print(file.writelines(['Programming \\n','welcome \\n','to coding \\n']))"
   ]
  },
  {
   "cell_type": "code",
   "execution_count": 39,
   "id": "72eaab77",
   "metadata": {},
   "outputs": [
    {
     "name": "stdout",
     "output_type": "stream",
     "text": [
      "3\n"
     ]
    }
   ],
   "source": [
    "with open(path,'r') as file:\n",
    "    count = 0\n",
    "    for line_no, line in enumerate(file,start=1):\n",
    "        count += 1\n",
    "        #print(line)\n",
    "#     file.seek(0)\n",
    "#     lines = islice(file,count-3,count)\n",
    "print(count)    "
   ]
  },
  {
   "cell_type": "code",
   "execution_count": 53,
   "id": "e90d1b2d",
   "metadata": {},
   "outputs": [],
   "source": [
    "path = r'C:\\Users\\Samarth H Chinivar\\Documents\\Engineering\\Placement-Training\\Python\\spam\\spam1.txt'\n",
    "from collections import deque\n",
    "#print(os.getcwd())\n",
    "with open(path) as file:\n",
    "    for line in file:\n",
    "        d = deque(file,3)\n",
    "        for lines in d:\n",
    "            print(lines)"
   ]
  },
  {
   "cell_type": "markdown",
   "id": "bb8b349e",
   "metadata": {},
   "source": [
    "### Print the number of characters in a file."
   ]
  },
  {
   "cell_type": "code",
   "execution_count": 57,
   "id": "59ae8a0c",
   "metadata": {},
   "outputs": [
    {
     "name": "stdout",
     "output_type": "stream",
     "text": [
      "170\n"
     ]
    }
   ],
   "source": [
    "path = r'C:\\Users\\Samarth H Chinivar\\Documents\\Engineering\\Placement-Training\\Python\\spam\\spam1.txt'\n",
    "with open(path,'r') as file:\n",
    "    count = 0\n",
    "    for line in file:\n",
    "        for ch in line:\n",
    "            #print(ch)\n",
    "            count += 1\n",
    "print(count)"
   ]
  },
  {
   "cell_type": "markdown",
   "id": "24d5e1fd",
   "metadata": {},
   "source": [
    "### Print the words in a file."
   ]
  },
  {
   "cell_type": "code",
   "execution_count": 58,
   "id": "34bac1db",
   "metadata": {},
   "outputs": [
    {
     "name": "stdout",
     "output_type": "stream",
     "text": [
      "dwqojqidjqod\n",
      "dqowokdqwpkdoqod\n",
      "qdokqwdkwqokdoqw\n",
      "qwdkjqjdkqjdq\n",
      "wqdmqdqkkdjq\n",
      "qwddkqqwkwd\n",
      "qdkwpkwpqkqpkdpqdk\n",
      "qkdpkqdpqwkpqkd\n",
      "qdqpwkdpqwkdq\n",
      "kwqpkfqwfkpqq]fkq5wf\\q\n",
      "qfwqfpwfkpwk\n",
      "qfwqfpwfkpwk\n"
     ]
    }
   ],
   "source": [
    "path = r'C:\\Users\\Samarth H Chinivar\\Documents\\Engineering\\Placement-Training\\Python\\spam\\spam1.txt'\n",
    "with open(path,'r') as file:\n",
    "    for line in file:\n",
    "        if line.strip():\n",
    "            list_word = line.split()\n",
    "            for word in list_word:\n",
    "                print(word)\n",
    "print(word)"
   ]
  },
  {
   "cell_type": "markdown",
   "id": "5edadd90",
   "metadata": {},
   "source": [
    "### Print the lines starting with vowels."
   ]
  },
  {
   "cell_type": "code",
   "execution_count": 61,
   "id": "580c9f88",
   "metadata": {},
   "outputs": [
    {
     "name": "stdout",
     "output_type": "stream",
     "text": [
      "asasasasfeb rgrgqre\n",
      "\n",
      "adsdasdewfeef wfwefas\n",
      "\n",
      "aad wdqwdwd\n"
     ]
    }
   ],
   "source": [
    "with open(path) as file:\n",
    "    for line in file:\n",
    "        if line.strip():\n",
    "            if line[0] in \"aeiouAEIOU\":\n",
    "                print(line)"
   ]
  },
  {
   "cell_type": "markdown",
   "id": "7f52037d",
   "metadata": {},
   "source": [
    "### Print lines numbers and numbers of words in line. "
   ]
  },
  {
   "cell_type": "code",
   "execution_count": 64,
   "id": "28a5487d",
   "metadata": {},
   "outputs": [
    {
     "name": "stdout",
     "output_type": "stream",
     "text": [
      "{'dwqojqidjqod': 1, 'dqowokdqwpkdoqod': 1, 'qdokqwdkwqokdoqw': 1, 'qwdkjqjdkqjdq': 1, 'wqdmqdqkkdjq': 1, 'qwddkqqwkwd': 1, 'qdkwpkwpqkqpkdpqdk': 1, 'qkdpkqdpqwkpqkd': 1, 'qdqpwkdpqwkdq': 1, 'kwqpkfqwfkpqq]fkq5wf\\\\q': 1, 'qfwqfpwfkpwk': 1, 'asasasasfeb': 1, 'rgrgqre': 1, 'adsdasdewfeef': 1, 'wfwefas': 1, 'aad': 1, 'wdqwdwd': 1}\n"
     ]
    }
   ],
   "source": [
    "# with open(path) as file:\n",
    "#     d = {}\n",
    "#     for line in file:\n",
    "#         if line.strip():\n",
    "#             list_word = line.split()\n",
    "#             for word in list_word:\n",
    "#                 d[word] = list_word.count(word)\n",
    "# print(d)"
   ]
  },
  {
   "cell_type": "markdown",
   "id": "f4b5fb75",
   "metadata": {},
   "source": [
    "### Convert it to lowercase without using any inbuilt function."
   ]
  },
  {
   "cell_type": "code",
   "execution_count": 70,
   "id": "e11d1070",
   "metadata": {},
   "outputs": [
    {
     "name": "stdout",
     "output_type": "stream",
     "text": [
      "heWORLDwelCOMe\n",
      "HEworldWELcomE\n"
     ]
    }
   ],
   "source": [
    "s = \"heWORLDwelCOMe\"\n",
    "res = ''\n",
    "for ch in s:\n",
    "    if ord('a') <= ord(ch) <= ord('z'):\n",
    "        res = res + chr(ord(ch)-32)\n",
    "    elif ord('A') <= ord(ch) <= ord('Z'):\n",
    "        res = res + chr(ord(ch)+32)\n",
    "    else:\n",
    "        res = res + ch\n",
    "        \n",
    "print(s)        \n",
    "print(res)"
   ]
  },
  {
   "cell_type": "markdown",
   "id": "29398bbb",
   "metadata": {},
   "source": [
    "### Counting Characters."
   ]
  },
  {
   "cell_type": "code",
   "execution_count": 74,
   "id": "b6c3d5c3",
   "metadata": {},
   "outputs": [
    {
     "name": "stdout",
     "output_type": "stream",
     "text": [
      "Counter({'a': 9, 'r': 7, 't': 5, 'e': 4, 'b': 2, 's': 2, 'c': 1})\n"
     ]
    }
   ],
   "source": [
    "from collections import Counter\n",
    "s = 'aabaasasaabaaceeetrtttrrrterrr'\n",
    "a = Counter(s)\n",
    "print(a)"
   ]
  },
  {
   "cell_type": "markdown",
   "id": "98d3ed23",
   "metadata": {},
   "source": [
    "## OOP"
   ]
  },
  {
   "cell_type": "markdown",
   "id": "ae48c4b8",
   "metadata": {},
   "source": [
    "### Types of Naming:"
   ]
  },
  {
   "cell_type": "markdown",
   "id": "a4aef69c",
   "metadata": {},
   "source": [
    "- `pascal case`: FileName\n",
    "- `snake case` : file_name\n",
    "- `camel case` : fileName"
   ]
  },
  {
   "cell_type": "markdown",
   "id": "ef2665d9",
   "metadata": {},
   "source": [
    "- `Attributes` are `Variables` in OOP.\n",
    "- `Functions` are  `Methods` in OOP."
   ]
  },
  {
   "cell_type": "code",
   "execution_count": 96,
   "id": "b0132da3",
   "metadata": {},
   "outputs": [
    {
     "name": "stdout",
     "output_type": "stream",
     "text": [
      "Hello World\n",
      "SVIT\n",
      "Annand 1\n",
      "Hello World\n",
      "BMSIT\n",
      "Annath 2\n"
     ]
    }
   ],
   "source": [
    "class Computer:\n",
    "    college_name = 'SVIT'\n",
    "    def __init__(self):\n",
    "        print(\"Hello World\")\n",
    "    \n",
    "    def config(self,name,roll):\n",
    "        self.name = name\n",
    "        self.roll = roll\n",
    "        \n",
    "obj = Computer()\n",
    "#Computer.confg(obj)\n",
    "# obj.a = 10\n",
    "# obj.b = 20\n",
    "\n",
    "print(obj.college_name)\n",
    "\n",
    "obj.config(\"Annand\",1)\n",
    "print(obj.name,obj.roll)\n",
    "\n",
    "obj2 = Computer()\n",
    "obj2.college_name = 'BMSIT'\n",
    "print(obj2.college_name)\n",
    "\n",
    "obj2.config(\"Annath\",2)\n",
    "print(obj2.name,obj2.roll)"
   ]
  },
  {
   "cell_type": "code",
   "execution_count": 3,
   "id": "eacc2084",
   "metadata": {},
   "outputs": [
    {
     "name": "stdout",
     "output_type": "stream",
     "text": [
      "sam 10\n"
     ]
    }
   ],
   "source": [
    "class Computer1:\n",
    "    def __init__(self,name,roll):\n",
    "        self.name = name\n",
    "        self.roll = roll\n",
    "    \n",
    "    def details(self):\n",
    "        print(self.name,self.roll)\n",
    "        \n",
    "obj = Computer1('sam',10)\n",
    "obj.details()"
   ]
  }
 ],
 "metadata": {
  "kernelspec": {
   "display_name": "Python 3 (ipykernel)",
   "language": "python",
   "name": "python3"
  },
  "language_info": {
   "codemirror_mode": {
    "name": "ipython",
    "version": 3
   },
   "file_extension": ".py",
   "mimetype": "text/x-python",
   "name": "python",
   "nbconvert_exporter": "python",
   "pygments_lexer": "ipython3",
   "version": "3.10.6"
  }
 },
 "nbformat": 4,
 "nbformat_minor": 5
}
