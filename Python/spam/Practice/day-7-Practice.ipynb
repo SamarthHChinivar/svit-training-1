{
 "cells": [
  {
   "cell_type": "markdown",
   "id": "b3b77183",
   "metadata": {},
   "source": [
    "### Write a function that accepts two strings and returns True if the two strings are anagrams of each other."
   ]
  },
  {
   "cell_type": "code",
   "execution_count": 4,
   "id": "d0591f43",
   "metadata": {},
   "outputs": [
    {
     "name": "stdout",
     "output_type": "stream",
     "text": [
      "They are anagrams\n",
      "True\n"
     ]
    }
   ],
   "source": [
    "def anagram(s1,s2):\n",
    "    if(sorted(s1) == sorted(s2)):\n",
    "        print('They are anagrams')\n",
    "        return True\n",
    "    else :\n",
    "        print('They are not anagrams')\n",
    "        return False\n",
    "    \n",
    "print(anagram('race','care'))"
   ]
  },
  {
   "cell_type": "markdown",
   "id": "bd8f4810",
   "metadata": {},
   "source": [
    "### Grouping Anagrams:"
   ]
  },
  {
   "cell_type": "code",
   "execution_count": 11,
   "id": "ec8a52fc",
   "metadata": {},
   "outputs": [
    {
     "name": "stdout",
     "output_type": "stream",
     "text": [
      "defaultdict(<class 'list'>, {'aet': ['eat', 'ate', 'tea'], 'ehllo': ['hello'], 'eilnst': ['silent', 'listen']})\n"
     ]
    }
   ],
   "source": [
    "from collections import defaultdict\n",
    "words = ['eat','ate','tea','hello','silent','listen']\n",
    "d = defaultdict(list)\n",
    "\n",
    "for ch in words:\n",
    "    key = \"\".join(sorted(ch))\n",
    "    d[key] += [ch]\n",
    "\n",
    "print(d)"
   ]
  }
 ],
 "metadata": {
  "kernelspec": {
   "display_name": "Python 3 (ipykernel)",
   "language": "python",
   "name": "python3"
  },
  "language_info": {
   "codemirror_mode": {
    "name": "ipython",
    "version": 3
   },
   "file_extension": ".py",
   "mimetype": "text/x-python",
   "name": "python",
   "nbconvert_exporter": "python",
   "pygments_lexer": "ipython3",
   "version": "3.10.6"
  }
 },
 "nbformat": 4,
 "nbformat_minor": 5
}
