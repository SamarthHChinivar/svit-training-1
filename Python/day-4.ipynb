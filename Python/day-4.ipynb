{
 "cells": [
  {
   "cell_type": "markdown",
   "id": "33a10fc0",
   "metadata": {},
   "source": [
    "# Day-4:\n",
    "---"
   ]
  },
  {
   "cell_type": "markdown",
   "id": "a7359221",
   "metadata": {},
   "source": [
    "## Enumerate\n",
    "---"
   ]
  },
  {
   "cell_type": "markdown",
   "id": "1e051892",
   "metadata": {},
   "source": [
    "enumerate is used for keeping track of indexes"
   ]
  },
  {
   "cell_type": "markdown",
   "id": "09e0f635",
   "metadata": {},
   "source": [
    "## defaultdict()\n",
    "---"
   ]
  },
  {
   "cell_type": "markdown",
   "id": "fce07592",
   "metadata": {},
   "source": [
    "defaultdict(datatype) is used for creating an empty dictionary, whenever a key is created , a default value(int:0,dict:{},list:[]) of specified data type is created using this method. "
   ]
  },
  {
   "cell_type": "markdown",
   "id": "5662ef16",
   "metadata": {},
   "source": [
    "### difference b/w {} and defaultdict()"
   ]
  },
  {
   "cell_type": "markdown",
   "id": "b726d714",
   "metadata": {},
   "source": [
    "https://stackoverflow.com/questions/6589814/what-is-the-difference-between-dict-and-collections-defaultdict"
   ]
  },
  {
   "cell_type": "markdown",
   "id": "c38d4482",
   "metadata": {},
   "source": [
    "#### Example:"
   ]
  },
  {
   "cell_type": "code",
   "execution_count": 3,
   "id": "544ffecd",
   "metadata": {},
   "outputs": [
    {
     "name": "stdout",
     "output_type": "stream",
     "text": [
      "defaultdict(<class 'int'>, {})\n"
     ]
    }
   ],
   "source": [
    "from collections import defaultdict\n",
    "dd = defaultdict(int)\n",
    "print(dd)"
   ]
  },
  {
   "cell_type": "markdown",
   "id": "67d3b6d4",
   "metadata": {},
   "source": [
    "- reverse() can't be used for immutable data types.\n",
    "- It returns a tuple, with (index,value). Default Index is 0."
   ]
  },
  {
   "cell_type": "markdown",
   "id": "763bd6e4",
   "metadata": {},
   "source": [
    "## Zip"
   ]
  },
  {
   "cell_type": "markdown",
   "id": "00c72aa3",
   "metadata": {},
   "source": [
    "zip() method is used for creating a dictionary using 2 lists."
   ]
  },
  {
   "cell_type": "markdown",
   "id": "bfb85667",
   "metadata": {},
   "source": [
    "### Write a program to check, if string palindrome or not, without using reverse()."
   ]
  },
  {
   "cell_type": "code",
   "execution_count": null,
   "id": "85cc7854",
   "metadata": {},
   "outputs": [],
   "source": [
    "s = \"mam\"\n",
    "res = \"\"\n",
    "for ch in s: #dry-run this part for more understanding\n",
    "    res = ch + res # not same as res += ch \n",
    "    # res = new letter + old letter\n",
    "if res == s:\n",
    "    print(\"It is a palindrome\")\n",
    "else:\n",
    "    print(\"Not a palindrome\")"
   ]
  },
  {
   "cell_type": "markdown",
   "id": "08838a03",
   "metadata": {},
   "source": [
    "### print elements in even indices"
   ]
  },
  {
   "cell_type": "code",
   "execution_count": 11,
   "id": "6774eb05",
   "metadata": {},
   "outputs": [
    {
     "name": "stdout",
     "output_type": "stream",
     "text": [
      "apple\n",
      "walmart\n",
      "gmail\n"
     ]
    }
   ],
   "source": [
    "it = ['apple','google','walmart','flipkart','gmail']\n",
    "for i in it[::2]:\n",
    "        print(i)"
   ]
  },
  {
   "cell_type": "markdown",
   "id": "f896038f",
   "metadata": {},
   "source": [
    "### alternative method"
   ]
  },
  {
   "cell_type": "code",
   "execution_count": 12,
   "id": "51d8f41e",
   "metadata": {},
   "outputs": [
    {
     "name": "stdout",
     "output_type": "stream",
     "text": [
      "apple\n",
      "walmart\n",
      "gmail\n"
     ]
    }
   ],
   "source": [
    "#print elements in even indices\n",
    "\n",
    "it = ['apple','google','walmart','flipkart','gmail']\n",
    "for i in range(len(it)):\n",
    "    if(i%2==0):\n",
    "        print(it[i])"
   ]
  },
  {
   "cell_type": "markdown",
   "id": "99e9b3ce",
   "metadata": {},
   "source": [
    "### create a dict of index and element pair where elements must be of odd length"
   ]
  },
  {
   "cell_type": "code",
   "execution_count": 30,
   "id": "07d4bee4",
   "metadata": {},
   "outputs": [
    {
     "name": "stdout",
     "output_type": "stream",
     "text": [
      "{0: 'apple', 2: 'walmart', 4: 'gmail'}\n"
     ]
    }
   ],
   "source": [
    "it = ['apple','google','walmart','flipkart','gmail']\n",
    "d = {}\n",
    "for key,value in enumerate(it):\n",
    "     if(len(value)%2 != 0):\n",
    "         d[key] = value\n",
    "print(d)"
   ]
  },
  {
   "cell_type": "markdown",
   "id": "63328a99",
   "metadata": {},
   "source": [
    "### traversing multiple lists and creating a list"
   ]
  },
  {
   "cell_type": "code",
   "execution_count": 20,
   "id": "da0c241e",
   "metadata": {},
   "outputs": [
    {
     "name": "stdout",
     "output_type": "stream",
     "text": [
      "{'apple': 10, 'google': 20, 'flipkart': 30}\n"
     ]
    }
   ],
   "source": [
    "l1 = [10,20,30]\n",
    "l2 = ['apple','google','flipkart']\n",
    "\n",
    "d = {}\n",
    "for i in range(len(l1)):\n",
    "    d[l2[i]] = l1[i]\n",
    "print(d)"
   ]
  },
  {
   "cell_type": "markdown",
   "id": "dc6c9954",
   "metadata": {},
   "source": [
    "### create a list of tuples of word and it's length pair"
   ]
  },
  {
   "cell_type": "code",
   "execution_count": 26,
   "id": "5953b99c",
   "metadata": {},
   "outputs": [
    {
     "name": "stdout",
     "output_type": "stream",
     "text": [
      "[('apple', 5), ('google', 6), ('flipkart', 8)]\n"
     ]
    }
   ],
   "source": [
    "l = ['apple','google','flipkart']\n",
    "l1 = []\n",
    "for i in l:\n",
    "    l1.append((i,len(i)))\n",
    "print(l1)"
   ]
  },
  {
   "cell_type": "markdown",
   "id": "ee0a8912",
   "metadata": {},
   "source": [
    "### create a dict of word and it's length pair"
   ]
  },
  {
   "cell_type": "code",
   "execution_count": 28,
   "id": "e84cf792",
   "metadata": {},
   "outputs": [
    {
     "name": "stdout",
     "output_type": "stream",
     "text": [
      "{'apple': 5, 'google': 6, 'flipkart': 8}\n"
     ]
    }
   ],
   "source": [
    "l = ['apple','google','flipkart']\n",
    "d = {}\n",
    "for i in l:\n",
    "    d[i] = len(i)\n",
    "print(d)"
   ]
  },
  {
   "cell_type": "markdown",
   "id": "d87f6220",
   "metadata": {},
   "source": [
    "### Create a dict with word and it's count"
   ]
  },
  {
   "cell_type": "code",
   "execution_count": 36,
   "id": "0b138c7f",
   "metadata": {},
   "outputs": [
    {
     "name": "stdout",
     "output_type": "stream",
     "text": [
      "{'apple': 3, 'google': 1, 'gmail': 2, 'flipkart': 1}\n"
     ]
    }
   ],
   "source": [
    "l = ['apple','google','gmail','apple','gmail','flipkart','apple']\n",
    "d = {}\n",
    "\n",
    "for k,v in enumerate(l):\n",
    "    if(v not in d):\n",
    "        d[v] = 1\n",
    "    else:\n",
    "        d[v] += 1\n",
    "print(d)"
   ]
  },
  {
   "cell_type": "markdown",
   "id": "8a2d5c01",
   "metadata": {},
   "source": [
    "### Create a dict with word and it's index"
   ]
  },
  {
   "cell_type": "code",
   "execution_count": 40,
   "id": "f3d11404",
   "metadata": {},
   "outputs": [
    {
     "name": "stdout",
     "output_type": "stream",
     "text": [
      "{0: 'apple', 1: 'google', 2: 'gmail', 3: 'apple', 4: 'gmail', 5: 'flipkart', 6: 'apple'}\n"
     ]
    }
   ],
   "source": [
    "l = ['apple','google','gmail','apple','gmail','flipkart','apple']\n",
    "d = {}\n",
    "\n",
    "for k,v in enumerate(l):\n",
    "    d[k] = v\n",
    "print(d)"
   ]
  },
  {
   "cell_type": "markdown",
   "id": "3f8c0c23",
   "metadata": {},
   "source": [
    "### Create a dict with word and it's index list "
   ]
  },
  {
   "cell_type": "code",
   "execution_count": 47,
   "id": "c5e77291",
   "metadata": {},
   "outputs": [
    {
     "name": "stdout",
     "output_type": "stream",
     "text": [
      "{'apple': [0, 3, 6], 'google': [1], 'gmail': [2, 4], 'flipkart': [5]}\n"
     ]
    }
   ],
   "source": [
    "l = ['apple','google','gmail','apple','gmail','flipkart','apple']\n",
    "d = {}\n",
    "\n",
    "for i,v in enumerate(l): #dry-run part\n",
    "    if(v not in d):\n",
    "        d[v] = [i] #creates list\n",
    "    else:\n",
    "        d[v] += [i] #merges list\n",
    "print(d)"
   ]
  },
  {
   "cell_type": "markdown",
   "id": "a984063d",
   "metadata": {},
   "source": [
    "### Create a dict with word and it's index list using defualtdict [comprehension]"
   ]
  },
  {
   "cell_type": "code",
   "execution_count": 49,
   "id": "545749c4",
   "metadata": {},
   "outputs": [
    {
     "name": "stdout",
     "output_type": "stream",
     "text": [
      "defaultdict(<class 'list'>, {'apple': [0, 3, 6], 'google': [1], 'gmail': [2, 4], 'flipkart': [5]})\n"
     ]
    }
   ],
   "source": [
    "l = ['apple','google','gmail','apple','gmail','flipkart','apple']\n",
    "dd = defaultdict(list) #we specify the datatype of value only, as only it's mutable in dictionary\n",
    "for i,v in enumerate(l): #dry-run part\n",
    "    dd[v] += [i] #if we didn't use defaultdict() here, we would get a key error\n",
    "print(dd)"
   ]
  },
  {
   "cell_type": "markdown",
   "id": "d6a7b33b",
   "metadata": {},
   "source": [
    "## Comprehension"
   ]
  },
  {
   "cell_type": "markdown",
   "id": "b62fd28d",
   "metadata": {},
   "source": [
    "https://www.geeksforgeeks.org/comprehensions-in-python "
   ]
  },
  {
   "cell_type": "markdown",
   "id": "f2eca11a",
   "metadata": {},
   "source": [
    "**Note:** Use `isinstance(value, datatype)` instead of `type(value)` "
   ]
  },
  {
   "cell_type": "markdown",
   "id": "6874fc2f",
   "metadata": {},
   "source": [
    "### List Comprehension"
   ]
  },
  {
   "cell_type": "markdown",
   "id": "14746d59",
   "metadata": {},
   "source": [
    "**Syntax:** [expression for item in iterable]"
   ]
  },
  {
   "cell_type": "markdown",
   "id": "94c260f7",
   "metadata": {},
   "source": [
    "### Set Comprehension"
   ]
  },
  {
   "cell_type": "markdown",
   "id": "1a765a76",
   "metadata": {},
   "source": [
    "**Syntax:** {expression for item in iterable}"
   ]
  },
  {
   "cell_type": "markdown",
   "id": "b9cd1f91",
   "metadata": {},
   "source": [
    "### Dictionary Comprehension"
   ]
  },
  {
   "cell_type": "markdown",
   "id": "f53f9d23",
   "metadata": {},
   "source": [
    "**Syntax:** {key: value for (key, value) in iterable}"
   ]
  },
  {
   "cell_type": "markdown",
   "id": "f8d22bb6",
   "metadata": {},
   "source": [
    "## Drawbacks of Comprehension"
   ]
  },
  {
   "cell_type": "markdown",
   "id": "b426ec13",
   "metadata": {},
   "source": [
    "1. `No` values can be `assigned` inside a comprehension\n",
    "2. `Loop (condition)`control statements `cannot` be used in a comprehension\n",
    "3. `elif` blocks `cannot` be used in a comprehension"
   ]
  },
  {
   "cell_type": "markdown",
   "id": "028b6ade",
   "metadata": {},
   "source": [
    "### Build a list of tuples with string and it's length pair"
   ]
  },
  {
   "cell_type": "code",
   "execution_count": 61,
   "id": "7c74a2bc",
   "metadata": {},
   "outputs": [
    {
     "name": "stdout",
     "output_type": "stream",
     "text": [
      "[('12', 2), ('2', 1), ('hi', 2), ('hello', 5)]\n"
     ]
    }
   ],
   "source": [
    "l = ['12','2','hi','hello']\n",
    "l1 = [(ele,len(ele)) for ele in l]\n",
    "print(l1)"
   ]
  },
  {
   "cell_type": "markdown",
   "id": "b0b42e23",
   "metadata": {},
   "source": [
    "## Activity:"
   ]
  },
  {
   "cell_type": "markdown",
   "id": "b5429443",
   "metadata": {},
   "source": [
    "#### 1. Build a list of tuples with string and its length pair."
   ]
  },
  {
   "cell_type": "code",
   "execution_count": 64,
   "id": "43c4b368",
   "metadata": {},
   "outputs": [
    {
     "name": "stdout",
     "output_type": "stream",
     "text": [
      "[('12', 2), ('2', 1), ('hi', 2), ('hello', 5)]\n"
     ]
    }
   ],
   "source": [
    "l = ['12','2','hi','hello']\n",
    "l1 = [(ele,len(ele)) for ele in l]\n",
    "print(l1)"
   ]
  },
  {
   "cell_type": "markdown",
   "id": "4da00344",
   "metadata": {},
   "source": [
    "#### 2. Take a list of strings and reverse the string if the string is of odd length, otherwise keep it aside."
   ]
  },
  {
   "cell_type": "code",
   "execution_count": 74,
   "id": "ed808584",
   "metadata": {},
   "outputs": [
    {
     "name": "stdout",
     "output_type": "stream",
     "text": [
      "['olleh', 'dlrow', 'like', 'this']\n"
     ]
    }
   ],
   "source": [
    "list = ['hello','world','like','this']\n",
    "l1 = []\n",
    "for i in list:\n",
    "    if(len(i)%2 != 0):\n",
    "        l1.append(i[::-1])\n",
    "    else:\n",
    "        l1.append(i)\n",
    "print(l1)"
   ]
  },
  {
   "cell_type": "markdown",
   "id": "30daa2ec",
   "metadata": {},
   "source": [
    "#### 3. Fliping keys and values of dictionary using dict comprehension."
   ]
  },
  {
   "cell_type": "code",
   "execution_count": 71,
   "id": "7b38ccbe",
   "metadata": {},
   "outputs": [
    {
     "name": "stdout",
     "output_type": "stream",
     "text": [
      "{104: 'h', 101: 'e', 108: 'l', 111: 'o'}\n"
     ]
    }
   ],
   "source": [
    "d = {'h': 104, 'e': 101, 'l': 108, 'o': 111}\n",
    "d1 = {}\n",
    "\n",
    "for k,v in d.items(): #only d gives keys == d.keys()\n",
    "    d1[v] = k\n",
    "print(d1)"
   ]
  },
  {
   "cell_type": "markdown",
   "id": "1b7da24a",
   "metadata": {},
   "source": [
    "#### 4. Create a dictionary with character and it's ascii value."
   ]
  },
  {
   "cell_type": "code",
   "execution_count": 70,
   "id": "14a478c4",
   "metadata": {},
   "outputs": [
    {
     "name": "stdout",
     "output_type": "stream",
     "text": [
      "{'h': 104, 'e': 101, 'l': 108, 'o': 111}\n"
     ]
    }
   ],
   "source": [
    "a = \"hello\"\n",
    "d = {}\n",
    "for i in a:\n",
    "    d[i] = ord(i)\n",
    "print(d)"
   ]
  },
  {
   "cell_type": "markdown",
   "id": "84087219",
   "metadata": {},
   "source": [
    "#### 5. Program to reverse values in dictionary if the value is string type."
   ]
  },
  {
   "cell_type": "code",
   "execution_count": 77,
   "id": "442cf656",
   "metadata": {},
   "outputs": [
    {
     "name": "stdout",
     "output_type": "stream",
     "text": [
      "{'h': 'ahsapib', 'e': 101, 'l': '801'}\n"
     ]
    }
   ],
   "source": [
    "d = {'h':'bipasha','e':101, 'l':'108'}\n",
    "\n",
    "for k,v in d.items():\n",
    "    if(isinstance(v,str)):\n",
    "        d[k] = v[::-1]\n",
    "print(d)"
   ]
  },
  {
   "cell_type": "markdown",
   "id": "0bf0d00c",
   "metadata": {},
   "source": [
    "### Extension collector:"
   ]
  },
  {
   "cell_type": "markdown",
   "id": "ac6948d5",
   "metadata": {},
   "source": [
    "#### Approach-1:"
   ]
  },
  {
   "cell_type": "code",
   "execution_count": 80,
   "id": "ba027f87",
   "metadata": {},
   "outputs": [
    {
     "name": "stdout",
     "output_type": "stream",
     "text": [
      "{'txt': ['yahoo', 'gmail', 'amazon'], 'pdf': ['apple', 'google', 'facebook']}\n"
     ]
    }
   ],
   "source": [
    "l1 = ['apple.txt','yahoo.pdf','gmail.pdf','google.txt','amazon.pdf','facebook.txt']\n",
    "pdf = []\n",
    "txt = []\n",
    "\n",
    "for i in l1:\n",
    "    item = i.split(\".\")\n",
    "    if(item[1] == \"txt\"):\n",
    "        pdf.append(item[0])\n",
    "    elif(item[1] == \"pdf\"):\n",
    "        txt.append(item[0])\n",
    "        \n",
    "d = {'txt':txt, 'pdf':pdf}\n",
    "print(d)"
   ]
  },
  {
   "cell_type": "markdown",
   "id": "48fb9b14",
   "metadata": {},
   "source": [
    "#### Approach-2:"
   ]
  },
  {
   "cell_type": "code",
   "execution_count": 93,
   "id": "eb501f6e",
   "metadata": {},
   "outputs": [
    {
     "name": "stdout",
     "output_type": "stream",
     "text": [
      "{'txt': ['apple', 'google', 'facebook'], 'pdf': ['yahoo', 'gmail', 'amazon']}\n"
     ]
    }
   ],
   "source": [
    "l1 = ['apple.txt','yahoo.pdf','gmail.pdf','google.txt','amazon.pdf','facebook.txt']\n",
    "d = {}\n",
    "for i in l1:\n",
    "    item, exten = i.split(\".\")\n",
    "    if exten not in d:\n",
    "        d[exten] = [item] #create list\n",
    "    else:\n",
    "        d[exten] += [item] #merges list\n",
    "print(d)"
   ]
  },
  {
   "cell_type": "markdown",
   "id": "9a37db09",
   "metadata": {},
   "source": [
    "### Create Dictionary of city and population pairs using Dict."
   ]
  },
  {
   "cell_type": "code",
   "execution_count": 94,
   "id": "817e482a",
   "metadata": {},
   "outputs": [
    {
     "name": "stdout",
     "output_type": "stream",
     "text": [
      "{'tokyo': '38,001,000', 'delhi': '25,703,168', 'shanghai': '23,740,778', 'sao paulo': '21,066,245', 'mumbai': '21,042,380'}\n"
     ]
    }
   ],
   "source": [
    "cities = ['tokyo','delhi','shanghai','sao paulo','mumbai']\n",
    "population = ['38,001,000','25,703,168','23,740,778','21,066,245','21,042,380']\n",
    "\n",
    "d = {}\n",
    "for key,value in zip(cities,population):\n",
    "    d[key] = value\n",
    "print(d)"
   ]
  },
  {
   "cell_type": "markdown",
   "id": "2b4a356f",
   "metadata": {},
   "source": [
    "### Create Dictionary  of city and population pairs using Dict Comprehension."
   ]
  },
  {
   "cell_type": "code",
   "execution_count": 95,
   "id": "dbc90dfc",
   "metadata": {},
   "outputs": [
    {
     "name": "stdout",
     "output_type": "stream",
     "text": [
      "{'tokyo': '38,001,000', 'delhi': '25,703,168', 'shanghai': '23,740,778', 'sao paulo': '21,066,245', 'mumbai': '21,042,380'}\n"
     ]
    }
   ],
   "source": [
    "cities = ['tokyo','delhi','shanghai','sao paulo','mumbai']\n",
    "population = ['38,001,000','25,703,168','23,740,778','21,066,245','21,042,380']\n",
    "\n",
    "d = {key:value for key,value in zip(cities,population)}\n",
    "print(d)"
   ]
  }
 ],
 "metadata": {
  "kernelspec": {
   "display_name": "Python 3.10.6 64-bit",
   "language": "python",
   "name": "python3"
  },
  "language_info": {
   "codemirror_mode": {
    "name": "ipython",
    "version": 3
   },
   "file_extension": ".py",
   "mimetype": "text/x-python",
   "name": "python",
   "nbconvert_exporter": "python",
   "pygments_lexer": "ipython3",
   "version": "3.10.6"
  },
  "vscode": {
   "interpreter": {
    "hash": "a1a0606c35d66e4e983cfd42a7c8bdd844cf53557c7d80f43c6006919a6e0a17"
   }
  }
 },
 "nbformat": 4,
 "nbformat_minor": 5
}
